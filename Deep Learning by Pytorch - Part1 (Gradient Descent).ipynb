{
 "cells": [
  {
   "cell_type": "code",
   "execution_count": 1,
   "id": "e86ff2f5",
   "metadata": {},
   "outputs": [],
   "source": [
    "import numpy as np\n",
    "import torch"
   ]
  },
  {
   "cell_type": "code",
   "execution_count": 2,
   "id": "c0fbfd8e",
   "metadata": {},
   "outputs": [],
   "source": [
    "# Input (Temp, Rainfall, Humidity )\n",
    "inputs= np.array([[73, 67, 43],\n",
    "                  [91, 88, 64],\n",
    "                  [87, 134, 58],\n",
    "                  [102, 43, 37] ,\n",
    "                  [69, 96, 70]], dtype = 'float32')\n"
   ]
  },
  {
   "cell_type": "code",
   "execution_count": 3,
   "id": "1f3fce97",
   "metadata": {},
   "outputs": [],
   "source": [
    "# Target (Apples, Oranges)\n",
    "targets= np.array([[56, 70],\n",
    "                   [81, 101],\n",
    "                   [119, 133],\n",
    "                   [22,37],\n",
    "                   [103,119]], dtype='float32')"
   ]
  },
  {
   "cell_type": "code",
   "execution_count": 4,
   "id": "b6cd82a4",
   "metadata": {},
   "outputs": [
    {
     "name": "stdout",
     "output_type": "stream",
     "text": [
      "tensor([[ 73.,  67.,  43.],\n",
      "        [ 91.,  88.,  64.],\n",
      "        [ 87., 134.,  58.],\n",
      "        [102.,  43.,  37.],\n",
      "        [ 69.,  96.,  70.]])\n",
      "tensor([[ 56.,  70.],\n",
      "        [ 81., 101.],\n",
      "        [119., 133.],\n",
      "        [ 22.,  37.],\n",
      "        [103., 119.]])\n"
     ]
    }
   ],
   "source": [
    "# Convert inputs and targets to tensor\n",
    "inputs= torch.from_numpy(inputs)\n",
    "targets=torch.from_numpy(targets)\n",
    "print(inputs)\n",
    "print(targets)"
   ]
  },
  {
   "cell_type": "code",
   "execution_count": 5,
   "id": "06696743",
   "metadata": {},
   "outputs": [
    {
     "name": "stdout",
     "output_type": "stream",
     "text": [
      "tensor([[-0.3125, -0.1166,  0.1799],\n",
      "        [-0.1873,  1.0036,  0.3061]], requires_grad=True)\n",
      "tensor([ 1.3517, -1.0099], requires_grad=True)\n"
     ]
    }
   ],
   "source": [
    "# Weights and Biases\n",
    "w = torch.randn(2, 3, requires_grad= True)\n",
    "b = torch.randn(2, requires_grad= True)\n",
    "print(w)\n",
    "print(b)"
   ]
  },
  {
   "cell_type": "code",
   "execution_count": 6,
   "id": "5359e212",
   "metadata": {},
   "outputs": [
    {
     "data": {
      "text/plain": [
       "tensor([[ 73.,  67.,  43.],\n",
       "        [ 91.,  88.,  64.],\n",
       "        [ 87., 134.,  58.],\n",
       "        [102.,  43.,  37.],\n",
       "        [ 69.,  96.,  70.]])"
      ]
     },
     "execution_count": 6,
     "metadata": {},
     "output_type": "execute_result"
    }
   ],
   "source": [
    "inputs"
   ]
  },
  {
   "cell_type": "code",
   "execution_count": 7,
   "id": "b9644f8a",
   "metadata": {},
   "outputs": [],
   "source": [
    "def model (x):\n",
    "    return x @ w.t()+ b \n",
    "    # @ ==> multiplication in Pytorch\n",
    "    # .t ==> transpose"
   ]
  },
  {
   "cell_type": "code",
   "execution_count": 8,
   "id": "8a83a2b8",
   "metadata": {},
   "outputs": [
    {
     "name": "stdout",
     "output_type": "stream",
     "text": [
      "tensor([[-21.5331,  65.7201],\n",
      "        [-25.8277,  89.8523],\n",
      "        [-31.0197, 134.9311],\n",
      "        [-28.8760,  34.3646],\n",
      "        [-18.8068, 103.8387]], grad_fn=<AddBackward0>)\n"
     ]
    }
   ],
   "source": [
    "# Generate Predictions\n",
    "preds = model(inputs)\n",
    "print (preds)"
   ]
  },
  {
   "cell_type": "code",
   "execution_count": 9,
   "id": "64d15de6",
   "metadata": {},
   "outputs": [],
   "source": [
    "# Loss Function\n",
    "# MSE loss\n",
    "def mse (t1,t2):\n",
    "    diff = t1-t2\n",
    "    return torch.sum(diff*diff)/diff.numel()"
   ]
  },
  {
   "cell_type": "code",
   "execution_count": 10,
   "id": "f5a48408",
   "metadata": {},
   "outputs": [
    {
     "name": "stdout",
     "output_type": "stream",
     "text": [
      "tensor(5773.7842, grad_fn=<DivBackward0>)\n"
     ]
    }
   ],
   "source": [
    "# Compute Loss\n",
    "loss= mse(preds, targets)\n",
    "print (loss)"
   ]
  },
  {
   "cell_type": "code",
   "execution_count": 11,
   "id": "7ffbed92",
   "metadata": {},
   "outputs": [],
   "source": [
    "# Compute Gradient\n",
    "loss.backward()\n"
   ]
  },
  {
   "cell_type": "code",
   "execution_count": 12,
   "id": "50841c82",
   "metadata": {},
   "outputs": [],
   "source": [
    "# Adjust Weights and Biases to reduce the loss\n",
    "# if a gradient value is positive:\n",
    "##### inreasing the weight element's value slightly will increase the loss\n",
    "##### decreasing the weight element's value slightly will decrease the loss\n",
    "# if a gradient value is negative: \n",
    "##### inreasing the weight element's value slightly will decrease the loss\n",
    "##### decreasing the weight element's value slightly will increase the loss"
   ]
  },
  {
   "cell_type": "code",
   "execution_count": 13,
   "id": "9278881d",
   "metadata": {},
   "outputs": [],
   "source": [
    "# Adjust weights and reset gradients\n",
    "with torch.no_grad():\n",
    "    w-= w.grad* 1e-5\n",
    "    b-= b.grad* 1e-5\n",
    "    w.grad.zero_()\n",
    "    b.grad.zero_()"
   ]
  },
  {
   "cell_type": "code",
   "execution_count": 14,
   "id": "4eeff889",
   "metadata": {},
   "outputs": [
    {
     "name": "stdout",
     "output_type": "stream",
     "text": [
      "tensor([[-0.2284, -0.0194,  0.2385],\n",
      "        [-0.1824,  1.0088,  0.3100]], requires_grad=True)\n",
      "tensor([ 1.3527, -1.0098], requires_grad=True)\n"
     ]
    }
   ],
   "source": [
    "print (w)\n",
    "print (b)"
   ]
  },
  {
   "cell_type": "code",
   "execution_count": 15,
   "id": "c154bf83",
   "metadata": {},
   "outputs": [
    {
     "name": "stdout",
     "output_type": "stream",
     "text": [
      "tensor(3952.5417, grad_fn=<DivBackward0>)\n"
     ]
    }
   ],
   "source": [
    "#Calculate loss\n",
    "preds = model (inputs)\n",
    "loss = mse (preds , targets)\n",
    "print (loss)"
   ]
  },
  {
   "cell_type": "code",
   "execution_count": 16,
   "id": "e5ab4840",
   "metadata": {},
   "outputs": [],
   "source": [
    "# Train the Model using Gradient Descent\n",
    "# Train for 100 epochs\n",
    "for i in range (100):\n",
    "    preds= model (inputs)\n",
    "    loss = mse (preds, targets)\n",
    "    loss.backward()\n",
    "    with torch.no_grad():\n",
    "        w-= w.grad * 1e-5\n",
    "        b-= b.grad * 1e-5\n",
    "        w.grad.zero_()\n",
    "        b.grad.zero_()\n",
    "        "
   ]
  },
  {
   "cell_type": "code",
   "execution_count": 17,
   "id": "229dbc7a",
   "metadata": {},
   "outputs": [
    {
     "name": "stdout",
     "output_type": "stream",
     "text": [
      "tensor(66.0798, grad_fn=<DivBackward0>)\n"
     ]
    }
   ],
   "source": [
    "# Calculate loss\n",
    "preds = model( inputs)\n",
    "loss = mse (preds, targets)\n",
    "print (loss)"
   ]
  },
  {
   "cell_type": "code",
   "execution_count": 18,
   "id": "91b07adb",
   "metadata": {},
   "outputs": [
    {
     "data": {
      "text/plain": [
       "tensor([[ 60.5676,  70.5857],\n",
       "        [ 83.6456,  96.6914],\n",
       "        [109.9554, 141.5595],\n",
       "        [ 39.4526,  39.1849],\n",
       "        [ 93.9698, 110.7509]], grad_fn=<AddBackward0>)"
      ]
     },
     "execution_count": 18,
     "metadata": {},
     "output_type": "execute_result"
    }
   ],
   "source": [
    "preds\n"
   ]
  },
  {
   "cell_type": "code",
   "execution_count": 19,
   "id": "e8392bc8",
   "metadata": {},
   "outputs": [
    {
     "data": {
      "text/plain": [
       "tensor([[ 56.,  70.],\n",
       "        [ 81., 101.],\n",
       "        [119., 133.],\n",
       "        [ 22.,  37.],\n",
       "        [103., 119.]])"
      ]
     },
     "execution_count": 19,
     "metadata": {},
     "output_type": "execute_result"
    }
   ],
   "source": [
    "targets"
   ]
  }
 ],
 "metadata": {
  "kernelspec": {
   "display_name": "Python 3 (ipykernel)",
   "language": "python",
   "name": "python3"
  },
  "language_info": {
   "codemirror_mode": {
    "name": "ipython",
    "version": 3
   },
   "file_extension": ".py",
   "mimetype": "text/x-python",
   "name": "python",
   "nbconvert_exporter": "python",
   "pygments_lexer": "ipython3",
   "version": "3.8.13"
  }
 },
 "nbformat": 4,
 "nbformat_minor": 5
}
