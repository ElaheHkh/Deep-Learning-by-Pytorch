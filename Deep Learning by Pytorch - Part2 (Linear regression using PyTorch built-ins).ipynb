{
 "cells": [
  {
   "cell_type": "code",
   "execution_count": 1,
   "id": "0b7a7327",
   "metadata": {},
   "outputs": [],
   "source": [
    "import torch.nn as nn\n",
    "import numpy as np\n",
    "import torch"
   ]
  },
  {
   "cell_type": "code",
   "execution_count": 2,
   "id": "1704f32b",
   "metadata": {},
   "outputs": [],
   "source": [
    "# Input (temp, rainfall, humidity)\n",
    "Inputs= np.array([ [73,67,43],\n",
    "                   [91,88,64],\n",
    "                   [87,134,58],\n",
    "                   [102,43,37],\n",
    "                   [69,96,70],\n",
    "                   [74, 66, 43], \n",
    "                   [91, 87, 65], \n",
    "                   [88, 134, 59], \n",
    "                   [101, 44, 37], \n",
    "                   [68, 96, 71], \n",
    "                   [73, 66, 44], \n",
    "                   [92, 87, 64], \n",
    "                   [87, 135, 57], \n",
    "                   [103, 43, 36], \n",
    "                   [68, 97, 70]], \n",
    "                  dtype='float32')\n",
    "    \n",
    "#Targets (Apple , Oranges)\n",
    "Targets = np.array([[56, 70], \n",
    "                    [81, 101], \n",
    "                    [119, 133], \n",
    "                    [22, 37], \n",
    "                    [103, 119],\n",
    "                    [57, 69], \n",
    "                    [80, 102], \n",
    "                    [118, 132], \n",
    "                    [21, 38], \n",
    "                    [104, 118], \n",
    "                    [57, 69], \n",
    "                    [82, 100], \n",
    "                    [118, 134], \n",
    "                    [20, 38], \n",
    "                    [102, 120]], \n",
    "                   dtype='float32')\n",
    "\n",
    "Inputs= torch.from_numpy(Inputs)\n",
    "Targets= torch.from_numpy(Targets)\n"
   ]
  },
  {
   "cell_type": "code",
   "execution_count": 3,
   "id": "3a03e07e",
   "metadata": {},
   "outputs": [
    {
     "data": {
      "text/plain": [
       "tensor([[ 73.,  67.,  43.],\n",
       "        [ 91.,  88.,  64.],\n",
       "        [ 87., 134.,  58.],\n",
       "        [102.,  43.,  37.],\n",
       "        [ 69.,  96.,  70.],\n",
       "        [ 74.,  66.,  43.],\n",
       "        [ 91.,  87.,  65.],\n",
       "        [ 88., 134.,  59.],\n",
       "        [101.,  44.,  37.],\n",
       "        [ 68.,  96.,  71.],\n",
       "        [ 73.,  66.,  44.],\n",
       "        [ 92.,  87.,  64.],\n",
       "        [ 87., 135.,  57.],\n",
       "        [103.,  43.,  36.],\n",
       "        [ 68.,  97.,  70.]])"
      ]
     },
     "execution_count": 3,
     "metadata": {},
     "output_type": "execute_result"
    }
   ],
   "source": [
    "Inputs"
   ]
  },
  {
   "cell_type": "code",
   "execution_count": 4,
   "id": "463d5c29",
   "metadata": {},
   "outputs": [
    {
     "data": {
      "text/plain": [
       "tensor([[ 56.,  70.],\n",
       "        [ 81., 101.],\n",
       "        [119., 133.],\n",
       "        [ 22.,  37.],\n",
       "        [103., 119.],\n",
       "        [ 57.,  69.],\n",
       "        [ 80., 102.],\n",
       "        [118., 132.],\n",
       "        [ 21.,  38.],\n",
       "        [104., 118.],\n",
       "        [ 57.,  69.],\n",
       "        [ 82., 100.],\n",
       "        [118., 134.],\n",
       "        [ 20.,  38.],\n",
       "        [102., 120.]])"
      ]
     },
     "execution_count": 4,
     "metadata": {},
     "output_type": "execute_result"
    }
   ],
   "source": [
    "Targets"
   ]
  },
  {
   "cell_type": "code",
   "execution_count": 5,
   "id": "51fb43a9",
   "metadata": {},
   "outputs": [],
   "source": [
    "# Dataset and DataLoader\n",
    "# Dreate a TensorDataSet\n",
    "from torch.utils.data import TensorDataset"
   ]
  },
  {
   "cell_type": "code",
   "execution_count": 6,
   "id": "21892459",
   "metadata": {},
   "outputs": [
    {
     "data": {
      "text/plain": [
       "(tensor([[ 73.,  67.,  43.],\n",
       "         [ 91.,  88.,  64.],\n",
       "         [ 87., 134.,  58.]]),\n",
       " tensor([[ 56.,  70.],\n",
       "         [ 81., 101.],\n",
       "         [119., 133.]]))"
      ]
     },
     "execution_count": 6,
     "metadata": {},
     "output_type": "execute_result"
    }
   ],
   "source": [
    "#Define DataSet\n",
    "Train_DS= TensorDataset(Inputs, Targets)\n",
    "Train_DS [:3]"
   ]
  },
  {
   "cell_type": "code",
   "execution_count": 7,
   "id": "8396d21e",
   "metadata": {},
   "outputs": [],
   "source": [
    "# Create DataLoader\n",
    "from torch.utils.data import DataLoader"
   ]
  },
  {
   "cell_type": "code",
   "execution_count": 8,
   "id": "1cb16496",
   "metadata": {},
   "outputs": [],
   "source": [
    "#Define DataLoader\n",
    "Batch_Size= 5\n",
    "Train_DL = DataLoader(Train_DS,Batch_Size,shuffle = True)"
   ]
  },
  {
   "cell_type": "code",
   "execution_count": 9,
   "id": "74f6eed8",
   "metadata": {},
   "outputs": [
    {
     "name": "stdout",
     "output_type": "stream",
     "text": [
      "tensor([[ 88., 134.,  59.],\n",
      "        [101.,  44.,  37.],\n",
      "        [ 69.,  96.,  70.],\n",
      "        [ 73.,  66.,  44.],\n",
      "        [ 92.,  87.,  64.]])\n",
      "tensor([[118., 132.],\n",
      "        [ 21.,  38.],\n",
      "        [103., 119.],\n",
      "        [ 57.,  69.],\n",
      "        [ 82., 100.]])\n",
      "tensor([[ 87., 134.,  58.],\n",
      "        [ 87., 135.,  57.],\n",
      "        [ 73.,  67.,  43.],\n",
      "        [ 91.,  87.,  65.],\n",
      "        [102.,  43.,  37.]])\n",
      "tensor([[119., 133.],\n",
      "        [118., 134.],\n",
      "        [ 56.,  70.],\n",
      "        [ 80., 102.],\n",
      "        [ 22.,  37.]])\n",
      "tensor([[ 68.,  96.,  71.],\n",
      "        [103.,  43.,  36.],\n",
      "        [ 68.,  97.,  70.],\n",
      "        [ 74.,  66.,  43.],\n",
      "        [ 91.,  88.,  64.]])\n",
      "tensor([[104., 118.],\n",
      "        [ 20.,  38.],\n",
      "        [102., 120.],\n",
      "        [ 57.,  69.],\n",
      "        [ 81., 101.]])\n"
     ]
    }
   ],
   "source": [
    "for xb,yb in Train_DL:\n",
    "    print (xb)\n",
    "    print (yb)\n",
    "    "
   ]
  },
  {
   "cell_type": "code",
   "execution_count": 10,
   "id": "3282fbd7",
   "metadata": {},
   "outputs": [
    {
     "name": "stdout",
     "output_type": "stream",
     "text": [
      "Parameter containing:\n",
      "tensor([[ 0.3967,  0.5448, -0.3213],\n",
      "        [-0.4569, -0.4304, -0.1779]], requires_grad=True)\n",
      "Parameter containing:\n",
      "tensor([-0.1712, -0.4332], requires_grad=True)\n"
     ]
    }
   ],
   "source": [
    "# Define Model\n",
    "Model = nn.Linear (3,2)\n",
    "print (Model.weight)\n",
    "print (Model.bias)"
   ]
  },
  {
   "cell_type": "code",
   "execution_count": 11,
   "id": "cacfc3ad",
   "metadata": {},
   "outputs": [
    {
     "data": {
      "text/plain": [
       "[Parameter containing:\n",
       " tensor([[ 0.3967,  0.5448, -0.3213],\n",
       "         [-0.4569, -0.4304, -0.1779]], requires_grad=True),\n",
       " Parameter containing:\n",
       " tensor([-0.1712, -0.4332], requires_grad=True)]"
      ]
     },
     "execution_count": 11,
     "metadata": {},
     "output_type": "execute_result"
    }
   ],
   "source": [
    "# Parameters\n",
    "list(Model.parameters())"
   ]
  },
  {
   "cell_type": "code",
   "execution_count": 12,
   "id": "3b7f58ee",
   "metadata": {},
   "outputs": [],
   "source": [
    "Preds = Model (Inputs)"
   ]
  },
  {
   "cell_type": "code",
   "execution_count": 13,
   "id": "26cd91a9",
   "metadata": {},
   "outputs": [
    {
     "data": {
      "text/plain": [
       "tensor([[  51.4730,  -70.2658],\n",
       "        [  63.3073,  -91.2619],\n",
       "        [  88.7093, -108.1638],\n",
       "        [  51.8285,  -72.1188],\n",
       "        [  57.0116,  -85.7212],\n",
       "        [  51.3248,  -70.2923],\n",
       "        [  62.4413,  -91.0094],\n",
       "        [  88.7847, -108.7986],\n",
       "        [  51.9767,  -72.0923],\n",
       "        [  56.2936,  -85.4422],\n",
       "        [  50.6069,  -70.0133],\n",
       "        [  63.1592,  -91.2884],\n",
       "        [  89.5753, -108.4163],\n",
       "        [  52.5464,  -72.3978],\n",
       "        [  57.1597,  -85.6947]], grad_fn=<AddmmBackward0>)"
      ]
     },
     "execution_count": 13,
     "metadata": {},
     "output_type": "execute_result"
    }
   ],
   "source": [
    "Preds"
   ]
  },
  {
   "cell_type": "code",
   "execution_count": 14,
   "id": "c84842d0",
   "metadata": {},
   "outputs": [],
   "source": [
    "# Loss Function\n",
    "# Import nn.functional\n",
    "import torch.nn.functional as F"
   ]
  },
  {
   "cell_type": "code",
   "execution_count": 15,
   "id": "31e630cd",
   "metadata": {},
   "outputs": [
    {
     "name": "stdout",
     "output_type": "stream",
     "text": [
      "tensor(17296.7793, grad_fn=<MseLossBackward0>)\n"
     ]
    }
   ],
   "source": [
    "# Define Loss Function\n",
    "LossFn= F.mse_loss\n",
    "Loss= LossFn(Model(Inputs),Targets)\n",
    "print (Loss)"
   ]
  },
  {
   "cell_type": "code",
   "execution_count": 16,
   "id": "a8f4d96b",
   "metadata": {},
   "outputs": [],
   "source": [
    "# Define Optimizer\n",
    "Opt = torch.optim.SGD (Model.parameters(), lr =1e-5)"
   ]
  },
  {
   "cell_type": "code",
   "execution_count": 17,
   "id": "511a4683",
   "metadata": {},
   "outputs": [],
   "source": [
    "# Train the Model Steps\n",
    "# 1- Generate Predictions\n",
    "# 2- Calculate the loss\n",
    "# 3- Compute Gradients w.r.t the weights and biases\n",
    "# 4- Adjust the weights bu subtraqcting a smaqll quantity proportional to the gradient\n",
    "# 5- Reset the gradients to zero"
   ]
  },
  {
   "cell_type": "code",
   "execution_count": 18,
   "id": "f5e4c4c9",
   "metadata": {},
   "outputs": [],
   "source": [
    "# Utility Function to Train the Model\n",
    "def fit (num_epochs, model, loss_fn,opt, train_dl):\n",
    "    # Repeat for given number of epochs\n",
    "    for epoch in range (num_epochs):\n",
    "        # Train with batches of data\n",
    "        for xb,yb in train_dl:\n",
    "            \n",
    "            # 1. Generate Predictions\n",
    "            pred = model(xb)\n",
    "            \n",
    "            # 2. Calculate Loss\n",
    "            loss= loss_fn(pred,yb)\n",
    "            \n",
    "            # 3. Compute Gradients\n",
    "            loss.backward()\n",
    "            \n",
    "            # 4. Update Parameters us gradients\n",
    "            opt.step()\n",
    "            \n",
    "            # 5. Reset the gradients to zero\n",
    "            opt.zero_grad()\n",
    "            \n",
    "        # Print the Progress\n",
    "        if (epoch+1 )%10 == 0:\n",
    "            print ('Epoch [{}/{}]  Loss: {:.4f}'.format(epoch+1, num_epochs, loss.item()))"
   ]
  },
  {
   "cell_type": "code",
   "execution_count": 19,
   "id": "d06c6cf6",
   "metadata": {},
   "outputs": [
    {
     "name": "stdout",
     "output_type": "stream",
     "text": [
      "Epoch [10/100]  Loss: 462.1088\n",
      "Epoch [20/100]  Loss: 206.0551\n",
      "Epoch [30/100]  Loss: 161.5990\n",
      "Epoch [40/100]  Loss: 207.2862\n",
      "Epoch [50/100]  Loss: 106.0692\n",
      "Epoch [60/100]  Loss: 54.7552\n",
      "Epoch [70/100]  Loss: 11.2783\n",
      "Epoch [80/100]  Loss: 62.1688\n",
      "Epoch [90/100]  Loss: 38.2658\n",
      "Epoch [100/100]  Loss: 50.1504\n"
     ]
    }
   ],
   "source": [
    "fit (100, Model,LossFn,Opt,Train_DL)"
   ]
  },
  {
   "cell_type": "code",
   "execution_count": 20,
   "id": "9dafcf8f",
   "metadata": {},
   "outputs": [
    {
     "data": {
      "text/plain": [
       "tensor([[ 58.6058,  71.5218],\n",
       "        [ 77.9574,  98.8286],\n",
       "        [125.5776, 135.2672],\n",
       "        [ 29.4656,  44.1537],\n",
       "        [ 89.6343, 111.6792],\n",
       "        [ 57.4295,  70.5452],\n",
       "        [ 76.9574,  98.5275],\n",
       "        [125.4521, 135.6965],\n",
       "        [ 30.6419,  45.1303],\n",
       "        [ 89.8107, 112.3547],\n",
       "        [ 57.6059,  71.2207],\n",
       "        [ 76.7810,  97.8521],\n",
       "        [126.5775, 135.5684],\n",
       "        [ 29.2892,  43.4782],\n",
       "        [ 90.8107, 112.6558]], grad_fn=<AddmmBackward0>)"
      ]
     },
     "execution_count": 20,
     "metadata": {},
     "output_type": "execute_result"
    }
   ],
   "source": [
    "# Generate predictions\n",
    "preds = Model(Inputs)\n",
    "preds"
   ]
  },
  {
   "cell_type": "code",
   "execution_count": 21,
   "id": "a356f731",
   "metadata": {},
   "outputs": [
    {
     "data": {
      "text/plain": [
       "tensor([[ 56.,  70.],\n",
       "        [ 81., 101.],\n",
       "        [119., 133.],\n",
       "        [ 22.,  37.],\n",
       "        [103., 119.],\n",
       "        [ 57.,  69.],\n",
       "        [ 80., 102.],\n",
       "        [118., 132.],\n",
       "        [ 21.,  38.],\n",
       "        [104., 118.],\n",
       "        [ 57.,  69.],\n",
       "        [ 82., 100.],\n",
       "        [118., 134.],\n",
       "        [ 20.,  38.],\n",
       "        [102., 120.]])"
      ]
     },
     "execution_count": 21,
     "metadata": {},
     "output_type": "execute_result"
    }
   ],
   "source": [
    "# Compare with targets\n",
    "Targets"
   ]
  },
  {
   "cell_type": "code",
   "execution_count": null,
   "id": "9dd59f95",
   "metadata": {},
   "outputs": [],
   "source": []
  }
 ],
 "metadata": {
  "kernelspec": {
   "display_name": "Python 3 (ipykernel)",
   "language": "python",
   "name": "python3"
  },
  "language_info": {
   "codemirror_mode": {
    "name": "ipython",
    "version": 3
   },
   "file_extension": ".py",
   "mimetype": "text/x-python",
   "name": "python",
   "nbconvert_exporter": "python",
   "pygments_lexer": "ipython3",
   "version": "3.8.13"
  }
 },
 "nbformat": 4,
 "nbformat_minor": 5
}
