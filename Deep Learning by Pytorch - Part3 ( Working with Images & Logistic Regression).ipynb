{
 "cells": [
  {
   "cell_type": "code",
   "execution_count": 1,
   "id": "dab13595",
   "metadata": {},
   "outputs": [],
   "source": [
    "# Imports\n",
    "import torch\n",
    "import torchvision\n",
    "from torchvision.datasets import MNIST"
   ]
  },
  {
   "cell_type": "code",
   "execution_count": 2,
   "id": "5a69abe7",
   "metadata": {},
   "outputs": [],
   "source": [
    "# Download training dataset\n",
    "dataset = MNIST (root = 'data/', download = True)\n"
   ]
  },
  {
   "cell_type": "code",
   "execution_count": 3,
   "id": "161d29de",
   "metadata": {},
   "outputs": [],
   "source": [
    "test_dataset= MNIST (root = 'data/', train = False)"
   ]
  },
  {
   "cell_type": "code",
   "execution_count": 4,
   "id": "86d93f19",
   "metadata": {},
   "outputs": [],
   "source": [
    "import matplotlib.pyplot as plt\n",
    "%matplotlib inline"
   ]
  },
  {
   "cell_type": "code",
   "execution_count": 5,
   "id": "44564e8c",
   "metadata": {},
   "outputs": [],
   "source": [
    "import torchvision.transforms as transforms"
   ]
  },
  {
   "cell_type": "code",
   "execution_count": 6,
   "id": "e5b5af8c",
   "metadata": {},
   "outputs": [],
   "source": [
    "dataset= MNIST( root='data/', \n",
    "               train=True, \n",
    "               transform = transforms.ToTensor())"
   ]
  },
  {
   "cell_type": "code",
   "execution_count": 7,
   "id": "827bff4e",
   "metadata": {},
   "outputs": [],
   "source": [
    "from torch.utils.data import random_split\n",
    "\n",
    "train_ds, val_ds = random_split (dataset, [50000,10000])\n"
   ]
  },
  {
   "cell_type": "code",
   "execution_count": 8,
   "id": "e424c437",
   "metadata": {},
   "outputs": [],
   "source": [
    "from torch.utils.data import DataLoader\n",
    "\n",
    "batch_size = 128\n",
    "\n",
    "train_loader = DataLoader (train_ds, batch_size, shuffle =True)\n",
    "val_loader = DataLoader (val_ds, batch_size)\n"
   ]
  },
  {
   "cell_type": "code",
   "execution_count": 9,
   "id": "f34f3bfe",
   "metadata": {},
   "outputs": [],
   "source": [
    "!pip install jovian --upgrade --quiet"
   ]
  },
  {
   "cell_type": "code",
   "execution_count": 10,
   "id": "d3c2c275",
   "metadata": {},
   "outputs": [],
   "source": [
    "import jovian"
   ]
  },
  {
   "cell_type": "code",
   "execution_count": 11,
   "id": "364013bf",
   "metadata": {},
   "outputs": [
    {
     "data": {
      "application/javascript": [
       "window.require && require([\"base/js/namespace\"],function(Jupyter){Jupyter.notebook.save_checkpoint()})"
      ],
      "text/plain": [
       "<IPython.core.display.Javascript object>"
      ]
     },
     "metadata": {},
     "output_type": "display_data"
    },
    {
     "name": "stdout",
     "output_type": "stream",
     "text": [
      "[jovian] Updating notebook \"elahe-hosseinkhani/working-with-images-logistic-regression-in-pytorch\" on https://jovian.ai/\u001b[0m\n",
      "[jovian] Committed successfully! https://jovian.ai/elahe-hosseinkhani/working-with-images-logistic-regression-in-pytorch\u001b[0m\n"
     ]
    },
    {
     "data": {
      "text/plain": [
       "'https://jovian.ai/elahe-hosseinkhani/working-with-images-logistic-regression-in-pytorch'"
      ]
     },
     "execution_count": 11,
     "metadata": {},
     "output_type": "execute_result"
    }
   ],
   "source": [
    "jovian.commit(project= 'Working-with-Images-&-Logistic-Regression-in-PyTorch')"
   ]
  },
  {
   "cell_type": "code",
   "execution_count": 12,
   "id": "a8dd2710",
   "metadata": {},
   "outputs": [],
   "source": [
    "# Model --> pred= x@ w.t() + b\n",
    "import torch.nn as nn\n",
    "\n",
    "input_size = 28*28\n",
    "num_classes = 10\n",
    "\n",
    "# Logistic Regression Model\n",
    "\n",
    "model = nn.Linear(input_size, num_classes)"
   ]
  },
  {
   "cell_type": "code",
   "execution_count": 13,
   "id": "59db666e",
   "metadata": {},
   "outputs": [],
   "source": [
    "import torch.nn.functional as F"
   ]
  },
  {
   "cell_type": "code",
   "execution_count": 14,
   "id": "8af0995f",
   "metadata": {},
   "outputs": [],
   "source": [
    "# Evaluation Metric and Loss Function"
   ]
  },
  {
   "cell_type": "code",
   "execution_count": 15,
   "id": "5e2f21bc",
   "metadata": {},
   "outputs": [],
   "source": [
    "def accuracy (outputs, labels):\n",
    "    _, preds = torch.max(outputs, dim=1)\n",
    "    return torch. tensor(torch.sum(preds == labels).item()/len(preds))"
   ]
  },
  {
   "cell_type": "code",
   "execution_count": 16,
   "id": "13292f17",
   "metadata": {},
   "outputs": [],
   "source": [
    "loss_fn = F.cross_entropy"
   ]
  },
  {
   "cell_type": "raw",
   "id": "2e362bff",
   "metadata": {},
   "source": [
    "Training the model\n",
    "for epoch in range (num_epochs):\n",
    "    # Training Phase\n",
    "    for batch in Train_loader:\n",
    "        # Generate Predictions\n",
    "        # Compute Gradients\n",
    "        # Update Weights\n",
    "        # Reset Gradients\n",
    "        \n",
    "     # Validation Phase\n",
    "     for batch in Val_loader:\n",
    "         # Generate Predictions\n",
    "         # Calculate Loss\n",
    "         # Calculate Metrics (Accuracy etc.)\n",
    "     \n",
    "     # Calculate Average Validation Loss & Metrics\n",
    "     \n",
    "     # Log Epoch, Loss & Metrics for inspection\n",
    "     "
   ]
  },
  {
   "cell_type": "code",
   "execution_count": 17,
   "id": "76cd12e4",
   "metadata": {},
   "outputs": [],
   "source": [
    "def fit (epochs, lr, model, train_loader, val_loader, opt_func= torch.optim.SGD):\n",
    "    optimizer = opt_func(model.parameters(), lr)\n",
    "    history = []  #for recording epoch_wise results\n",
    "    \n",
    "    for epoch in range (epochs) :\n",
    "        \n",
    "        # Training Phase\n",
    "        for batch in train_loader:\n",
    "            loss = model.training_step(batch)\n",
    "            loss.backward ()\n",
    "            optimizer.step()\n",
    "            optimizer.zero_grad()\n",
    "        \n",
    "        # Validation Phase\n",
    "        result = evaluate (model, val_loader)\n",
    "        model.epoch_end(epoch, result)\n",
    "        history.append (result)\n",
    "    return history\n",
    "\n",
    "    \n"
   ]
  },
  {
   "cell_type": "code",
   "execution_count": 18,
   "id": "65099297",
   "metadata": {},
   "outputs": [],
   "source": [
    "def evaluate (model, val_loader):\n",
    "    outputs = [model.validation_step (batch) for batch in val_loader]\n",
    "    return model.validation_epoch_end(outputs)"
   ]
  },
  {
   "cell_type": "code",
   "execution_count": 19,
   "id": "084846c2",
   "metadata": {},
   "outputs": [],
   "source": [
    "class MnistModel (nn.Module):\n",
    "    def __init__(self):\n",
    "        super().__init__()\n",
    "        self.linear = nn.Linear (input_size,num_classes)\n",
    "        \n",
    "    def forward (self, xb):\n",
    "        xb= xb.reshape(-1,784)\n",
    "        out = self.linear (xb)\n",
    "        return out\n",
    "    def training_step(self, batch):\n",
    "        images , labels= batch\n",
    "        out = self(images)       # Generate Predictions\n",
    "        loss= F.cross_entropy (out, labels)    # Calculate Loss\n",
    "        return loss\n",
    "    def validation_step(self, batch):\n",
    "        images, labels = batch\n",
    "        out = self(images)\n",
    "        loss= F.cross_entropy (out, labels)\n",
    "        acc= accuracy (out, labels)\n",
    "        return {'val_loss' : loss, 'val_acc':acc}\n",
    "    def validation_epoch_end (self,outputs):\n",
    "        batch_losses =[x['val_loss'] for x in outputs ]\n",
    "        epoch_loss= torch.stack (batch_losses).mean() # Combine losses\n",
    "        batch_acc= [x['val_acc'] for x in outputs]\n",
    "        epoch_acc= torch.stack(batch_acc).mean()\n",
    "        return {'val_loss': epoch_loss.item(), 'val_acc':epoch_acc.item()}\n",
    "    def epoch_end(self,epoch,result):\n",
    "        print(\"Epoch [{}], val_loss: {:,.4f}, val_acc {:.4f}\".format(epoch,result['val_loss'], result ['val_acc']))\n",
    "\n",
    "        \n",
    "model = MnistModel()"
   ]
  },
  {
   "cell_type": "code",
   "execution_count": 20,
   "id": "177d5157",
   "metadata": {},
   "outputs": [
    {
     "data": {
      "text/plain": [
       "{'val_loss': 2.2996826171875, 'val_acc': 0.08287183195352554}"
      ]
     },
     "execution_count": 20,
     "metadata": {},
     "output_type": "execute_result"
    }
   ],
   "source": [
    "result0 = evaluate (model, val_loader)\n",
    "result0"
   ]
  },
  {
   "cell_type": "code",
   "execution_count": 21,
   "id": "228b79d1",
   "metadata": {},
   "outputs": [
    {
     "name": "stdout",
     "output_type": "stream",
     "text": [
      "Epoch [0], val_loss: 1.9287, val_acc 0.6602\n",
      "Epoch [1], val_loss: 1.6649, val_acc 0.7430\n",
      "Epoch [2], val_loss: 1.4688, val_acc 0.7698\n",
      "Epoch [3], val_loss: 1.3210, val_acc 0.7854\n",
      "Epoch [4], val_loss: 1.2074, val_acc 0.7970\n"
     ]
    }
   ],
   "source": [
    "history1 = fit (5,0.001, model, train_loader, val_loader)"
   ]
  },
  {
   "cell_type": "code",
   "execution_count": 22,
   "id": "0cd0a590",
   "metadata": {},
   "outputs": [
    {
     "name": "stdout",
     "output_type": "stream",
     "text": [
      "Epoch [0], val_loss: 1.1182, val_acc 0.8050\n",
      "Epoch [1], val_loss: 1.0466, val_acc 0.8113\n",
      "Epoch [2], val_loss: 0.9880, val_acc 0.8154\n",
      "Epoch [3], val_loss: 0.9391, val_acc 0.8209\n",
      "Epoch [4], val_loss: 0.8977, val_acc 0.8250\n"
     ]
    }
   ],
   "source": [
    "history2 = fit (5,0.001, model, train_loader, val_loader)"
   ]
  },
  {
   "cell_type": "code",
   "execution_count": 23,
   "id": "6a8e4215",
   "metadata": {},
   "outputs": [
    {
     "name": "stdout",
     "output_type": "stream",
     "text": [
      "Epoch [0], val_loss: 0.8623, val_acc 0.8277\n",
      "Epoch [1], val_loss: 0.8316, val_acc 0.8311\n",
      "Epoch [2], val_loss: 0.8046, val_acc 0.8337\n",
      "Epoch [3], val_loss: 0.7808, val_acc 0.8365\n",
      "Epoch [4], val_loss: 0.7596, val_acc 0.8405\n"
     ]
    }
   ],
   "source": [
    "history3 = fit (5,0.001, model, train_loader, val_loader)"
   ]
  },
  {
   "cell_type": "code",
   "execution_count": 24,
   "id": "bf4ffd22",
   "metadata": {},
   "outputs": [
    {
     "name": "stdout",
     "output_type": "stream",
     "text": [
      "Epoch [0], val_loss: 0.7406, val_acc 0.8430\n",
      "Epoch [1], val_loss: 0.7234, val_acc 0.8464\n",
      "Epoch [2], val_loss: 0.7079, val_acc 0.8485\n",
      "Epoch [3], val_loss: 0.6937, val_acc 0.8489\n",
      "Epoch [4], val_loss: 0.6806, val_acc 0.8498\n"
     ]
    }
   ],
   "source": [
    "history4 = fit (5,0.001, model, train_loader, val_loader)"
   ]
  },
  {
   "cell_type": "code",
   "execution_count": 25,
   "id": "e7edba6d",
   "metadata": {},
   "outputs": [
    {
     "data": {
      "text/plain": [
       "Text(0.5, 1.0, 'Accuracy vs. No. of epoch')"
      ]
     },
     "execution_count": 25,
     "metadata": {},
     "output_type": "execute_result"
    },
    {
     "data": {
      "image/png": "[encoded data removed]",
      "text/plain": [
       "<Figure size 432x288 with 1 Axes>"
      ]
     },
     "metadata": {
      "needs_background": "light"
     },
     "output_type": "display_data"
    }
   ],
   "source": [
    "history = [result0]+ history1+history2+history3+ history4\n",
    "accuracies= [result['val_acc'] for result in history]\n",
    "plt.plot(accuracies,'-x')\n",
    "plt.xlabel('epoch')\n",
    "plt.ylabel('accuracy')\n",
    "plt.title ('Accuracy vs. No. of epoch')"
   ]
  },
  {
   "cell_type": "code",
   "execution_count": 26,
   "id": "aabec11d",
   "metadata": {},
   "outputs": [
    {
     "name": "stdout",
     "output_type": "stream",
     "text": [
      "[jovian] Metrics logged.\u001b[0m\n"
     ]
    }
   ],
   "source": [
    "jovian.log_metrics(val_acc= history[-1]['val_acc'], val_loss= history[-1]['val_loss'])\n"
   ]
  },
  {
   "cell_type": "code",
   "execution_count": 27,
   "id": "96f0cc6b",
   "metadata": {},
   "outputs": [],
   "source": [
    "#Testing with individual images\n"
   ]
  },
  {
   "cell_type": "code",
   "execution_count": 28,
   "id": "f339612c",
   "metadata": {},
   "outputs": [],
   "source": [
    "# Define test dataset\n",
    "test_dataset = MNIST(root='data/', \n",
    "                     train=False,\n",
    "                     transform=transforms.ToTensor())"
   ]
  },
  {
   "cell_type": "code",
   "execution_count": 29,
   "id": "b4904cef",
   "metadata": {},
   "outputs": [
    {
     "name": "stdout",
     "output_type": "stream",
     "text": [
      "Shape: torch.Size([1, 28, 28])\n",
      "Label: 7\n"
     ]
    },
    {
     "data": {
      "image/png": "[encoded data removed]",
      "text/plain": [
       "<Figure size 432x288 with 1 Axes>"
      ]
     },
     "metadata": {
      "needs_background": "light"
     },
     "output_type": "display_data"
    }
   ],
   "source": [
    "img, label = test_dataset[0]\n",
    "plt.imshow(img[0], cmap='gray')\n",
    "print('Shape:', img.shape)\n",
    "print('Label:', label)"
   ]
  },
  {
   "cell_type": "code",
   "execution_count": 30,
   "id": "fc874ab0",
   "metadata": {},
   "outputs": [],
   "source": [
    "def predict_image(img, model):\n",
    "    xb = img.unsqueeze(0)\n",
    "    # simply adds another dimension at the begining of the 1x28x28 tensor,\n",
    "    # making it a 1x1x28x28 tensor, which the model views as\n",
    "    # a batch containing a single image.\n",
    "\n",
    "    yb = model(xb)\n",
    "    _, preds = torch.max(yb, dim=1)\n",
    "    return preds[0].item()\n"
   ]
  },
  {
   "cell_type": "code",
   "execution_count": 31,
   "id": "0166c1cc",
   "metadata": {},
   "outputs": [
    {
     "name": "stdout",
     "output_type": "stream",
     "text": [
      "Label: 0 , Predicted: 0\n"
     ]
    },
    {
     "data": {
      "image/png": "[encoded data removed]",
      "text/plain": [
       "<Figure size 432x288 with 1 Axes>"
      ]
     },
     "metadata": {
      "needs_background": "light"
     },
     "output_type": "display_data"
    }
   ],
   "source": [
    "img, label = test_dataset[10]\n",
    "plt.imshow(img[0], cmap='gray')\n",
    "print('Label:', label, ', Predicted:', predict_image(img, model))"
   ]
  },
  {
   "cell_type": "code",
   "execution_count": 32,
   "id": "1140c6a2",
   "metadata": {},
   "outputs": [
    {
     "name": "stdout",
     "output_type": "stream",
     "text": [
      "Label: 9 , Predicted: 4\n"
     ]
    },
    {
     "data": {
      "image/png": "[encoded data removed]",
      "text/plain": [
       "<Figure size 432x288 with 1 Axes>"
      ]
     },
     "metadata": {
      "needs_background": "light"
     },
     "output_type": "display_data"
    }
   ],
   "source": [
    "img, label = test_dataset[193]\n",
    "plt.imshow(img[0], cmap='gray')\n",
    "print('Label:', label, ', Predicted:', predict_image(img, model))\n"
   ]
  },
  {
   "cell_type": "code",
   "execution_count": 33,
   "id": "b1bed95f",
   "metadata": {},
   "outputs": [
    {
     "name": "stdout",
     "output_type": "stream",
     "text": [
      "Label: 2 , Predicted: 8\n"
     ]
    },
    {
     "data": {
      "image/png": "[encoded data removed]",
      "text/plain": [
       "<Figure size 432x288 with 1 Axes>"
      ]
     },
     "metadata": {
      "needs_background": "light"
     },
     "output_type": "display_data"
    }
   ],
   "source": [
    "img, label = test_dataset[1839]\n",
    "plt.imshow(img[0], cmap='gray')\n",
    "print('Label:', label, ', Predicted:', predict_image(img, model))"
   ]
  },
  {
   "cell_type": "code",
   "execution_count": 34,
   "id": "6fc4e4bf",
   "metadata": {},
   "outputs": [
    {
     "data": {
      "text/plain": [
       "{'val_loss': 0.6402212381362915, 'val_acc': 0.8604491949081421}"
      ]
     },
     "execution_count": 34,
     "metadata": {},
     "output_type": "execute_result"
    }
   ],
   "source": [
    "test_loader = DataLoader(test_dataset, batch_size=256)\n",
    "result = evaluate(model, test_loader)\n",
    "result"
   ]
  },
  {
   "cell_type": "code",
   "execution_count": 35,
   "id": "2f57066c",
   "metadata": {},
   "outputs": [],
   "source": [
    "#Saving and loading the model\n",
    "torch.save(model.state_dict(), 'mnist-logistic.pth')\n"
   ]
  },
  {
   "cell_type": "code",
   "execution_count": 36,
   "id": "08ac5906",
   "metadata": {},
   "outputs": [
    {
     "data": {
      "text/plain": [
       "OrderedDict([('linear.weight',\n",
       "              tensor([[ 2.1658e-02,  1.3733e-02,  9.5256e-06,  ...,  3.1937e-02,\n",
       "                        1.5156e-02, -1.1369e-02],\n",
       "                      [ 2.0681e-02,  4.9600e-03,  6.2107e-03,  ..., -3.2947e-02,\n",
       "                       -4.1044e-03, -2.6723e-02],\n",
       "                      [-1.8081e-02,  1.5844e-02, -2.4049e-03,  ...,  2.7703e-02,\n",
       "                       -2.4102e-02,  2.0433e-02],\n",
       "                      ...,\n",
       "                      [ 2.5708e-02, -2.2408e-02, -3.1287e-02,  ...,  1.7122e-02,\n",
       "                       -3.3302e-02,  1.3400e-02],\n",
       "                      [-2.5709e-02,  3.2643e-02,  3.4073e-02,  ...,  1.6036e-02,\n",
       "                        6.8738e-03,  2.4105e-02],\n",
       "                      [-2.0743e-02, -1.8523e-02,  1.5054e-02,  ..., -1.3788e-02,\n",
       "                       -1.8947e-03,  2.4930e-02]])),\n",
       "             ('linear.bias',\n",
       "              tensor([-0.0408,  0.0962, -0.0386, -0.0369,  0.0209,  0.0739,  0.0078,  0.0327,\n",
       "                      -0.0847, -0.0376]))])"
      ]
     },
     "execution_count": 36,
     "metadata": {},
     "output_type": "execute_result"
    }
   ],
   "source": [
    "model.state_dict()\n"
   ]
  },
  {
   "cell_type": "code",
   "execution_count": 37,
   "id": "1605611d",
   "metadata": {},
   "outputs": [],
   "source": [
    "model2 = MnistModel()"
   ]
  },
  {
   "cell_type": "code",
   "execution_count": 38,
   "id": "fd7ea51e",
   "metadata": {},
   "outputs": [
    {
     "data": {
      "text/plain": [
       "OrderedDict([('linear.weight',\n",
       "              tensor([[-0.0100,  0.0347,  0.0279,  ...,  0.0251, -0.0010, -0.0344],\n",
       "                      [ 0.0325,  0.0267,  0.0238,  ..., -0.0332, -0.0303,  0.0053],\n",
       "                      [-0.0007,  0.0047, -0.0225,  ...,  0.0329, -0.0235,  0.0220],\n",
       "                      ...,\n",
       "                      [-0.0048,  0.0242, -0.0070,  ..., -0.0063, -0.0255,  0.0201],\n",
       "                      [ 0.0256,  0.0299, -0.0229,  ..., -0.0028,  0.0165, -0.0309],\n",
       "                      [ 0.0274, -0.0184,  0.0227,  ...,  0.0342, -0.0152,  0.0336]])),\n",
       "             ('linear.bias',\n",
       "              tensor([-0.0276,  0.0348,  0.0017,  0.0008, -0.0246,  0.0357,  0.0131,  0.0206,\n",
       "                      -0.0195,  0.0304]))])"
      ]
     },
     "execution_count": 38,
     "metadata": {},
     "output_type": "execute_result"
    }
   ],
   "source": [
    "model2.state_dict()\n"
   ]
  },
  {
   "cell_type": "code",
   "execution_count": 39,
   "id": "77e77b7c",
   "metadata": {},
   "outputs": [
    {
     "data": {
      "text/plain": [
       "{'val_loss': 2.352658748626709, 'val_acc': 0.06855468451976776}"
      ]
     },
     "execution_count": 39,
     "metadata": {},
     "output_type": "execute_result"
    }
   ],
   "source": [
    "evaluate(model2, test_loader)"
   ]
  },
  {
   "cell_type": "code",
   "execution_count": 40,
   "id": "4e229e6b",
   "metadata": {},
   "outputs": [
    {
     "data": {
      "text/plain": [
       "OrderedDict([('linear.weight',\n",
       "              tensor([[ 2.1658e-02,  1.3733e-02,  9.5256e-06,  ...,  3.1937e-02,\n",
       "                        1.5156e-02, -1.1369e-02],\n",
       "                      [ 2.0681e-02,  4.9600e-03,  6.2107e-03,  ..., -3.2947e-02,\n",
       "                       -4.1044e-03, -2.6723e-02],\n",
       "                      [-1.8081e-02,  1.5844e-02, -2.4049e-03,  ...,  2.7703e-02,\n",
       "                       -2.4102e-02,  2.0433e-02],\n",
       "                      ...,\n",
       "                      [ 2.5708e-02, -2.2408e-02, -3.1287e-02,  ...,  1.7122e-02,\n",
       "                       -3.3302e-02,  1.3400e-02],\n",
       "                      [-2.5709e-02,  3.2643e-02,  3.4073e-02,  ...,  1.6036e-02,\n",
       "                        6.8738e-03,  2.4105e-02],\n",
       "                      [-2.0743e-02, -1.8523e-02,  1.5054e-02,  ..., -1.3788e-02,\n",
       "                       -1.8947e-03,  2.4930e-02]])),\n",
       "             ('linear.bias',\n",
       "              tensor([-0.0408,  0.0962, -0.0386, -0.0369,  0.0209,  0.0739,  0.0078,  0.0327,\n",
       "                      -0.0847, -0.0376]))])"
      ]
     },
     "execution_count": 40,
     "metadata": {},
     "output_type": "execute_result"
    }
   ],
   "source": [
    "model2.load_state_dict(torch.load('mnist-logistic.pth'))\n",
    "model2.state_dict()"
   ]
  },
  {
   "cell_type": "code",
   "execution_count": 41,
   "id": "506534b9",
   "metadata": {},
   "outputs": [
    {
     "data": {
      "text/plain": [
       "{'val_loss': 0.6402212381362915, 'val_acc': 0.8604491949081421}"
      ]
     },
     "execution_count": 41,
     "metadata": {},
     "output_type": "execute_result"
    }
   ],
   "source": [
    "test_loader = DataLoader(test_dataset, batch_size=256)\n",
    "result = evaluate(model2, test_loader)\n",
    "result"
   ]
  },
  {
   "cell_type": "code",
   "execution_count": 42,
   "id": "1681cfeb",
   "metadata": {},
   "outputs": [
    {
     "data": {
      "application/javascript": [
       "window.require && require([\"base/js/namespace\"],function(Jupyter){Jupyter.notebook.save_checkpoint()})"
      ],
      "text/plain": [
       "<IPython.core.display.Javascript object>"
      ]
     },
     "metadata": {},
     "output_type": "display_data"
    },
    {
     "name": "stdout",
     "output_type": "stream",
     "text": [
      "[jovian] Updating notebook \"elahe-hosseinkhani/03-logistic-regression\" on https://jovian.ai/\u001b[0m\n",
      "[jovian] Uploading additional outputs...\u001b[0m\n",
      "[jovian] Attaching records (metrics, hyperparameters, dataset etc.)\u001b[0m\n",
      "[jovian] Committed successfully! https://jovian.ai/elahe-hosseinkhani/03-logistic-regression\u001b[0m\n"
     ]
    },
    {
     "data": {
      "text/plain": [
       "'https://jovian.ai/elahe-hosseinkhani/03-logistic-regression'"
      ]
     },
     "execution_count": 42,
     "metadata": {},
     "output_type": "execute_result"
    }
   ],
   "source": [
    "jovian.commit(project='03-logistic-regression', environment=None, outputs=['mnist-logistic.pth'])"
   ]
  },
  {
   "cell_type": "code",
   "execution_count": null,
   "id": "0183551f",
   "metadata": {},
   "outputs": [],
   "source": []
  }
 ],
 "metadata": {
  "kernelspec": {
   "display_name": "Python 3 (ipykernel)",
   "language": "python",
   "name": "python3"
  },
  "language_info": {
   "codemirror_mode": {
    "name": "ipython",
    "version": 3
   },
   "file_extension": ".py",
   "mimetype": "text/x-python",
   "name": "python",
   "nbconvert_exporter": "python",
   "pygments_lexer": "ipython3",
   "version": "3.8.13"
  }
 },
 "nbformat": 4,
 "nbformat_minor": 5
}
